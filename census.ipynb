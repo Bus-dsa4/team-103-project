{
 "cells": [
  {
   "cell_type": "code",
   "execution_count": 48,
   "id": "regulation-hunger",
   "metadata": {},
   "outputs": [],
   "source": [
    "import pandas as pd\n",
    "from uszipcode import SearchEngine, SimpleZipcode\n",
    "from datasource import DataSource"
   ]
  },
  {
   "cell_type": "markdown",
   "id": "sized-vietnam",
   "metadata": {},
   "source": [
    "Below are examples on how to use the class"
   ]
  },
  {
   "cell_type": "code",
   "execution_count": 49,
   "id": "superb-belize",
   "metadata": {},
   "outputs": [],
   "source": [
    "# Initializing the class with the files from the census\n",
    "d = DataSource('census//wc//meta.csv','census//wc//data.csv')"
   ]
  },
  {
   "cell_type": "code",
   "execution_count": 50,
   "id": "appropriate-letters",
   "metadata": {},
   "outputs": [
    {
     "ename": "NameError",
     "evalue": "name 'SearchEngine' is not defined",
     "output_type": "error",
     "traceback": [
      "\u001b[0;31m---------------------------------------------------------------------------\u001b[0m",
      "\u001b[0;31mNameError\u001b[0m                                 Traceback (most recent call last)",
      "\u001b[0;32m<ipython-input-50-bf534324a015>\u001b[0m in \u001b[0;36m<module>\u001b[0;34m\u001b[0m\n\u001b[1;32m      1\u001b[0m \u001b[0;31m# Getting the panda with the data\u001b[0m\u001b[0;34m\u001b[0m\u001b[0;34m\u001b[0m\u001b[0;34m\u001b[0m\u001b[0m\n\u001b[1;32m      2\u001b[0m \u001b[0;31m# size 1x1373\u001b[0m\u001b[0;34m\u001b[0m\u001b[0;34m\u001b[0m\u001b[0;34m\u001b[0m\u001b[0m\n\u001b[0;32m----> 3\u001b[0;31m \u001b[0md\u001b[0m\u001b[0;34m.\u001b[0m\u001b[0mget_data\u001b[0m\u001b[0;34m(\u001b[0m\u001b[0;34m)\u001b[0m\u001b[0;34m\u001b[0m\u001b[0;34m\u001b[0m\u001b[0m\n\u001b[0m",
      "\u001b[0;32m~/Documents/DS4/Project/git_folder/team-103-project/datasource.py\u001b[0m in \u001b[0;36mget_data\u001b[0;34m(self)\u001b[0m\n\u001b[1;32m     16\u001b[0m         \u001b[0;31m# if data is read already, it wont read it again\u001b[0m\u001b[0;34m\u001b[0m\u001b[0;34m\u001b[0m\u001b[0;34m\u001b[0m\u001b[0m\n\u001b[1;32m     17\u001b[0m         \u001b[0;32mif\u001b[0m \u001b[0;32mnot\u001b[0m\u001b[0;34m(\u001b[0m\u001b[0mself\u001b[0m\u001b[0;34m.\u001b[0m\u001b[0mdata\u001b[0m \u001b[0;32mis\u001b[0m \u001b[0;32mNone\u001b[0m\u001b[0;34m)\u001b[0m\u001b[0;34m:\u001b[0m\u001b[0;34m\u001b[0m\u001b[0;34m\u001b[0m\u001b[0m\n\u001b[0;32m---> 18\u001b[0;31m             \u001b[0;32mreturn\u001b[0m \u001b[0mself\u001b[0m\u001b[0;34m.\u001b[0m\u001b[0mdata\u001b[0m\u001b[0;34m\u001b[0m\u001b[0;34m\u001b[0m\u001b[0m\n\u001b[0m\u001b[1;32m     19\u001b[0m \u001b[0;34m\u001b[0m\u001b[0m\n\u001b[1;32m     20\u001b[0m         \u001b[0;31m# used to get the zip data\u001b[0m\u001b[0;34m\u001b[0m\u001b[0;34m\u001b[0m\u001b[0;34m\u001b[0m\u001b[0m\n",
      "\u001b[0;31mNameError\u001b[0m: name 'SearchEngine' is not defined"
     ]
    }
   ],
   "source": [
    "# Getting the panda with the data\n",
    "# size 1x1373\n",
    "d.get_data()"
   ]
  },
  {
   "cell_type": "code",
   "execution_count": 44,
   "id": "registered-legislation",
   "metadata": {},
   "outputs": [
    {
     "name": "stdout",
     "output_type": "stream",
     "text": [
      "Data sources not given\n"
     ]
    }
   ],
   "source": [
    "# This changes the data to have different columns names\n",
    "d.change_col_name()"
   ]
  },
  {
   "cell_type": "code",
   "execution_count": null,
   "id": "controlled-tournament",
   "metadata": {},
   "outputs": [],
   "source": []
  }
 ],
 "metadata": {
  "kernelspec": {
   "display_name": "Python 3",
   "language": "python",
   "name": "python3"
  },
  "language_info": {
   "codemirror_mode": {
    "name": "ipython",
    "version": 3
   },
   "file_extension": ".py",
   "mimetype": "text/x-python",
   "name": "python",
   "nbconvert_exporter": "python",
   "pygments_lexer": "ipython3",
   "version": "3.8.4"
  }
 },
 "nbformat": 4,
 "nbformat_minor": 5
}
