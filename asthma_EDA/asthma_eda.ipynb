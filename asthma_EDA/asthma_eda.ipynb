{
 "metadata": {
  "language_info": {
   "codemirror_mode": {
    "name": "ipython",
    "version": 3
   },
   "file_extension": ".py",
   "mimetype": "text/x-python",
   "name": "python",
   "nbconvert_exporter": "python",
   "pygments_lexer": "ipython3",
   "version": "3.8.5"
  },
  "orig_nbformat": 2,
  "kernelspec": {
   "name": "python385jvsc74a57bd00706b7602b9fbad49b3f2d4f1451bfdf47bb26f4a83d31e221de4c61a25da10f",
   "display_name": "Python 3.8.5 64-bit ('env': venv)"
  },
  "metadata": {
   "interpreter": {
    "hash": "0706b7602b9fbad49b3f2d4f1451bfdf47bb26f4a83d31e221de4c61a25da10f"
   }
  }
 },
 "nbformat": 4,
 "nbformat_minor": 2,
 "cells": [
  {
   "cell_type": "code",
   "execution_count": 5,
   "metadata": {},
   "outputs": [],
   "source": [
    "import pandas as pd\n",
    "from scipy.stats import chi2_contingency"
   ]
  },
  {
   "cell_type": "code",
   "execution_count": 3,
   "metadata": {},
   "outputs": [
    {
     "output_type": "execute_result",
     "data": {
      "text/plain": [
       "   Year     Geography          Age          Category  Demographic   Count  \\\n",
       "0  2015       Alameda  18 and Over  Total Population  18 and Over    6513   \n",
       "1  2015        Amador  18 and Over  Total Population  18 and Over     151   \n",
       "2  2015         Butte  18 and Over  Total Population  18 and Over     736   \n",
       "3  2015     Calaveras  18 and Over  Total Population  18 and Over     139   \n",
       "4  2015    California  18 and Over  Total Population  18 and Over  117854   \n",
       "5  2015        Colusa  18 and Over  Total Population  18 and Over      49   \n",
       "6  2015  Contra Costa  18 and Over  Total Population  18 and Over    4528   \n",
       "7  2015     Del Norte  18 and Over  Total Population  18 and Over      91   \n",
       "8  2015     El Dorado  18 and Over  Total Population  18 and Over     422   \n",
       "9  2015        Fresno  18 and Over  Total Population  18 and Over    3454   \n",
       "\n",
       "   Rate  \n",
       "0  53.1  \n",
       "1  49.1  \n",
       "2  43.8  \n",
       "3  42.7  \n",
       "4  40.0  \n",
       "5  29.0  \n",
       "6  54.8  \n",
       "7  41.9  \n",
       "8  32.8  \n",
       "9  49.5  "
      ],
      "text/html": "<div>\n<style scoped>\n    .dataframe tbody tr th:only-of-type {\n        vertical-align: middle;\n    }\n\n    .dataframe tbody tr th {\n        vertical-align: top;\n    }\n\n    .dataframe thead th {\n        text-align: right;\n    }\n</style>\n<table border=\"1\" class=\"dataframe\">\n  <thead>\n    <tr style=\"text-align: right;\">\n      <th></th>\n      <th>Year</th>\n      <th>Geography</th>\n      <th>Age</th>\n      <th>Category</th>\n      <th>Demographic</th>\n      <th>Count</th>\n      <th>Rate</th>\n    </tr>\n  </thead>\n  <tbody>\n    <tr>\n      <th>0</th>\n      <td>2015</td>\n      <td>Alameda</td>\n      <td>18 and Over</td>\n      <td>Total Population</td>\n      <td>18 and Over</td>\n      <td>6513</td>\n      <td>53.1</td>\n    </tr>\n    <tr>\n      <th>1</th>\n      <td>2015</td>\n      <td>Amador</td>\n      <td>18 and Over</td>\n      <td>Total Population</td>\n      <td>18 and Over</td>\n      <td>151</td>\n      <td>49.1</td>\n    </tr>\n    <tr>\n      <th>2</th>\n      <td>2015</td>\n      <td>Butte</td>\n      <td>18 and Over</td>\n      <td>Total Population</td>\n      <td>18 and Over</td>\n      <td>736</td>\n      <td>43.8</td>\n    </tr>\n    <tr>\n      <th>3</th>\n      <td>2015</td>\n      <td>Calaveras</td>\n      <td>18 and Over</td>\n      <td>Total Population</td>\n      <td>18 and Over</td>\n      <td>139</td>\n      <td>42.7</td>\n    </tr>\n    <tr>\n      <th>4</th>\n      <td>2015</td>\n      <td>California</td>\n      <td>18 and Over</td>\n      <td>Total Population</td>\n      <td>18 and Over</td>\n      <td>117854</td>\n      <td>40.0</td>\n    </tr>\n    <tr>\n      <th>5</th>\n      <td>2015</td>\n      <td>Colusa</td>\n      <td>18 and Over</td>\n      <td>Total Population</td>\n      <td>18 and Over</td>\n      <td>49</td>\n      <td>29.0</td>\n    </tr>\n    <tr>\n      <th>6</th>\n      <td>2015</td>\n      <td>Contra Costa</td>\n      <td>18 and Over</td>\n      <td>Total Population</td>\n      <td>18 and Over</td>\n      <td>4528</td>\n      <td>54.8</td>\n    </tr>\n    <tr>\n      <th>7</th>\n      <td>2015</td>\n      <td>Del Norte</td>\n      <td>18 and Over</td>\n      <td>Total Population</td>\n      <td>18 and Over</td>\n      <td>91</td>\n      <td>41.9</td>\n    </tr>\n    <tr>\n      <th>8</th>\n      <td>2015</td>\n      <td>El Dorado</td>\n      <td>18 and Over</td>\n      <td>Total Population</td>\n      <td>18 and Over</td>\n      <td>422</td>\n      <td>32.8</td>\n    </tr>\n    <tr>\n      <th>9</th>\n      <td>2015</td>\n      <td>Fresno</td>\n      <td>18 and Over</td>\n      <td>Total Population</td>\n      <td>18 and Over</td>\n      <td>3454</td>\n      <td>49.5</td>\n    </tr>\n  </tbody>\n</table>\n</div>"
     },
     "metadata": {},
     "execution_count": 3
    }
   ],
   "source": [
    "df = pd.read_csv('../cleaned_data/asthma_clean_file.csv')\n",
    "df.head(10)"
   ]
  },
  {
   "cell_type": "code",
   "execution_count": 4,
   "metadata": {},
   "outputs": [
    {
     "output_type": "execute_result",
     "data": {
      "text/plain": [
       "    Year     Geography          Age          Category  Demographic  Count  \\\n",
       "0   2015       Alameda  18 and Over  Total Population  18 and Over   6513   \n",
       "1   2015        Amador  18 and Over  Total Population  18 and Over    151   \n",
       "2   2015         Butte  18 and Over  Total Population  18 and Over    736   \n",
       "3   2015     Calaveras  18 and Over  Total Population  18 and Over    139   \n",
       "5   2015        Colusa  18 and Over  Total Population  18 and Over     49   \n",
       "6   2015  Contra Costa  18 and Over  Total Population  18 and Over   4528   \n",
       "7   2015     Del Norte  18 and Over  Total Population  18 and Over     91   \n",
       "8   2015     El Dorado  18 and Over  Total Population  18 and Over    422   \n",
       "9   2015        Fresno  18 and Over  Total Population  18 and Over   3454   \n",
       "10  2015         Glenn  18 and Over  Total Population  18 and Over     83   \n",
       "\n",
       "    Rate  \n",
       "0   53.1  \n",
       "1   49.1  \n",
       "2   43.8  \n",
       "3   42.7  \n",
       "5   29.0  \n",
       "6   54.8  \n",
       "7   41.9  \n",
       "8   32.8  \n",
       "9   49.5  \n",
       "10  39.4  "
      ],
      "text/html": "<div>\n<style scoped>\n    .dataframe tbody tr th:only-of-type {\n        vertical-align: middle;\n    }\n\n    .dataframe tbody tr th {\n        vertical-align: top;\n    }\n\n    .dataframe thead th {\n        text-align: right;\n    }\n</style>\n<table border=\"1\" class=\"dataframe\">\n  <thead>\n    <tr style=\"text-align: right;\">\n      <th></th>\n      <th>Year</th>\n      <th>Geography</th>\n      <th>Age</th>\n      <th>Category</th>\n      <th>Demographic</th>\n      <th>Count</th>\n      <th>Rate</th>\n    </tr>\n  </thead>\n  <tbody>\n    <tr>\n      <th>0</th>\n      <td>2015</td>\n      <td>Alameda</td>\n      <td>18 and Over</td>\n      <td>Total Population</td>\n      <td>18 and Over</td>\n      <td>6513</td>\n      <td>53.1</td>\n    </tr>\n    <tr>\n      <th>1</th>\n      <td>2015</td>\n      <td>Amador</td>\n      <td>18 and Over</td>\n      <td>Total Population</td>\n      <td>18 and Over</td>\n      <td>151</td>\n      <td>49.1</td>\n    </tr>\n    <tr>\n      <th>2</th>\n      <td>2015</td>\n      <td>Butte</td>\n      <td>18 and Over</td>\n      <td>Total Population</td>\n      <td>18 and Over</td>\n      <td>736</td>\n      <td>43.8</td>\n    </tr>\n    <tr>\n      <th>3</th>\n      <td>2015</td>\n      <td>Calaveras</td>\n      <td>18 and Over</td>\n      <td>Total Population</td>\n      <td>18 and Over</td>\n      <td>139</td>\n      <td>42.7</td>\n    </tr>\n    <tr>\n      <th>5</th>\n      <td>2015</td>\n      <td>Colusa</td>\n      <td>18 and Over</td>\n      <td>Total Population</td>\n      <td>18 and Over</td>\n      <td>49</td>\n      <td>29.0</td>\n    </tr>\n    <tr>\n      <th>6</th>\n      <td>2015</td>\n      <td>Contra Costa</td>\n      <td>18 and Over</td>\n      <td>Total Population</td>\n      <td>18 and Over</td>\n      <td>4528</td>\n      <td>54.8</td>\n    </tr>\n    <tr>\n      <th>7</th>\n      <td>2015</td>\n      <td>Del Norte</td>\n      <td>18 and Over</td>\n      <td>Total Population</td>\n      <td>18 and Over</td>\n      <td>91</td>\n      <td>41.9</td>\n    </tr>\n    <tr>\n      <th>8</th>\n      <td>2015</td>\n      <td>El Dorado</td>\n      <td>18 and Over</td>\n      <td>Total Population</td>\n      <td>18 and Over</td>\n      <td>422</td>\n      <td>32.8</td>\n    </tr>\n    <tr>\n      <th>9</th>\n      <td>2015</td>\n      <td>Fresno</td>\n      <td>18 and Over</td>\n      <td>Total Population</td>\n      <td>18 and Over</td>\n      <td>3454</td>\n      <td>49.5</td>\n    </tr>\n    <tr>\n      <th>10</th>\n      <td>2015</td>\n      <td>Glenn</td>\n      <td>18 and Over</td>\n      <td>Total Population</td>\n      <td>18 and Over</td>\n      <td>83</td>\n      <td>39.4</td>\n    </tr>\n  </tbody>\n</table>\n</div>"
     },
     "metadata": {},
     "execution_count": 4
    }
   ],
   "source": [
    "df_without_cal_total = df[df['Geography']!= 'California']\n",
    "df_without_cal_total.head(10)"
   ]
  },
  {
   "cell_type": "code",
   "execution_count": 6,
   "metadata": {},
   "outputs": [
    {
     "output_type": "stream",
     "name": "stdout",
     "text": [
      "0.007734670206471863\n"
     ]
    }
   ],
   "source": [
    "contingency_table = pd.crosstab(index=df['Geography'], columns=df['Rate'])\n",
    "p = chi2_contingency(contingency_table)[1]\n",
    "print(p)"
   ]
  },
  {
   "source": [
    "As p < 0.05, it seems that geography and the rate of asthma are dependent."
   ],
   "cell_type": "markdown",
   "metadata": {}
  }
 ]
}