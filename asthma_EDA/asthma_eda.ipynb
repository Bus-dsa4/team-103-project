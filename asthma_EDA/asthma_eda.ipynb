{
 "metadata": {
  "language_info": {
   "codemirror_mode": {
    "name": "ipython",
    "version": 3
   },
   "file_extension": ".py",
   "mimetype": "text/x-python",
   "name": "python",
   "nbconvert_exporter": "python",
   "pygments_lexer": "ipython3",
   "version": "3.8.5"
  },
  "orig_nbformat": 2,
  "kernelspec": {
   "name": "python385jvsc74a57bd00706b7602b9fbad49b3f2d4f1451bfdf47bb26f4a83d31e221de4c61a25da10f",
   "display_name": "Python 3.8.5 64-bit ('env': venv)"
  },
  "metadata": {
   "interpreter": {
    "hash": "0706b7602b9fbad49b3f2d4f1451bfdf47bb26f4a83d31e221de4c61a25da10f"
   }
  }
 },
 "nbformat": 4,
 "nbformat_minor": 2,
 "cells": [
  {
   "cell_type": "code",
   "execution_count": 5,
   "metadata": {},
   "outputs": [],
   "source": [
    "import pandas as pd\n",
    "from scipy.stats import chi2_contingency"
   ]
  },
  {
   "cell_type": "code",
   "execution_count": 3,
   "metadata": {},
   "outputs": [
    {
     "output_type": "execute_result",
     "data": {
      "text/plain": [
       "   Year     Geography          Age          Category  Demographic   Count  \\\n",
       "0  2015       Alameda  18 and Over  Total Population  18 and Over    6513   \n",
       "1  2015        Amador  18 and Over  Total Population  18 and Over     151   \n",
       "2  2015         Butte  18 and Over  Total Population  18 and Over     736   \n",
       "3  2015     Calaveras  18 and Over  Total Population  18 and Over     139   \n",
       "4  2015    California  18 and Over  Total Population  18 and Over  117854   \n",
       "5  2015        Colusa  18 and Over  Total Population  18 and Over      49   \n",
       "6  2015  Contra Costa  18 and Over  Total Population  18 and Over    4528   \n",
       "7  2015     Del Norte  18 and Over  Total Population  18 and Over      91   \n",
       "8  2015     El Dorado  18 and Over  Total Population  18 and Over     422   \n",
       "9  2015        Fresno  18 and Over  Total Population  18 and Over    3454   \n",
       "\n",
       "   Rate  \n",
       "0  53.1  \n",
       "1  49.1  \n",
       "2  43.8  \n",
       "3  42.7  \n",
       "4  40.0  \n",
       "5  29.0  \n",
       "6  54.8  \n",
       "7  41.9  \n",
       "8  32.8  \n",
       "9  49.5  "
      ],
      "text/html": "<div>\n<style scoped>\n    .dataframe tbody tr th:only-of-type {\n        vertical-align: middle;\n    }\n\n    .dataframe tbody tr th {\n        vertical-align: top;\n    }\n\n    .dataframe thead th {\n        text-align: right;\n    }\n</style>\n<table border=\"1\" class=\"dataframe\">\n  <thead>\n    <tr style=\"text-align: right;\">\n      <th></th>\n      <th>Year</th>\n      <th>Geography</th>\n      <th>Age</th>\n      <th>Category</th>\n      <th>Demographic</th>\n      <th>Count</th>\n      <th>Rate</th>\n    </tr>\n  </thead>\n  <tbody>\n    <tr>\n      <th>0</th>\n      <td>2015</td>\n      <td>Alameda</td>\n      <td>18 and Over</td>\n      <td>Total Population</td>\n      <td>18 and Over</td>\n      <td>6513</td>\n      <td>53.1</td>\n    </tr>\n    <tr>\n      <th>1</th>\n      <td>2015</td>\n      <td>Amador</td>\n      <td>18 and Over</td>\n      <td>Total Population</td>\n      <td>18 and Over</td>\n      <td>151</td>\n      <td>49.1</td>\n    </tr>\n    <tr>\n      <th>2</th>\n      <td>2015</td>\n      <td>Butte</td>\n      <td>18 and Over</td>\n      <td>Total Population</td>\n      <td>18 and Over</td>\n      <td>736</td>\n      <td>43.8</td>\n    </tr>\n    <tr>\n      <th>3</th>\n      <td>2015</td>\n      <td>Calaveras</td>\n      <td>18 and Over</td>\n      <td>Total Population</td>\n      <td>18 and Over</td>\n      <td>139</td>\n      <td>42.7</td>\n    </tr>\n    <tr>\n      <th>4</th>\n      <td>2015</td>\n      <td>California</td>\n      <td>18 and Over</td>\n      <td>Total Population</td>\n      <td>18 and Over</td>\n      <td>117854</td>\n      <td>40.0</td>\n    </tr>\n    <tr>\n      <th>5</th>\n      <td>2015</td>\n      <td>Colusa</td>\n      <td>18 and Over</td>\n      <td>Total Population</td>\n      <td>18 and Over</td>\n      <td>49</td>\n      <td>29.0</td>\n    </tr>\n    <tr>\n      <th>6</th>\n      <td>2015</td>\n      <td>Contra Costa</td>\n      <td>18 and Over</td>\n      <td>Total Population</td>\n      <td>18 and Over</td>\n      <td>4528</td>\n      <td>54.8</td>\n    </tr>\n    <tr>\n      <th>7</th>\n      <td>2015</td>\n      <td>Del Norte</td>\n      <td>18 and Over</td>\n      <td>Total Population</td>\n      <td>18 and Over</td>\n      <td>91</td>\n      <td>41.9</td>\n    </tr>\n    <tr>\n      <th>8</th>\n      <td>2015</td>\n      <td>El Dorado</td>\n      <td>18 and Over</td>\n      <td>Total Population</td>\n      <td>18 and Over</td>\n      <td>422</td>\n      <td>32.8</td>\n    </tr>\n    <tr>\n      <th>9</th>\n      <td>2015</td>\n      <td>Fresno</td>\n      <td>18 and Over</td>\n      <td>Total Population</td>\n      <td>18 and Over</td>\n      <td>3454</td>\n      <td>49.5</td>\n    </tr>\n  </tbody>\n</table>\n</div>"
     },
     "metadata": {},
     "execution_count": 3
    }
   ],
   "source": [
    "df = pd.read_csv('../cleaned_data/asthma_clean_file.csv')\n",
    "df.head(10)"
   ]
  },
  {
   "cell_type": "code",
   "execution_count": 4,
   "metadata": {},
   "outputs": [
    {
     "output_type": "execute_result",
     "data": {
      "text/plain": [
       "    Year     Geography          Age          Category  Demographic  Count  \\\n",
       "0   2015       Alameda  18 and Over  Total Population  18 and Over   6513   \n",
       "1   2015        Amador  18 and Over  Total Population  18 and Over    151   \n",
       "2   2015         Butte  18 and Over  Total Population  18 and Over    736   \n",
       "3   2015     Calaveras  18 and Over  Total Population  18 and Over    139   \n",
       "5   2015        Colusa  18 and Over  Total Population  18 and Over     49   \n",
       "6   2015  Contra Costa  18 and Over  Total Population  18 and Over   4528   \n",
       "7   2015     Del Norte  18 and Over  Total Population  18 and Over     91   \n",
       "8   2015     El Dorado  18 and Over  Total Population  18 and Over    422   \n",
       "9   2015        Fresno  18 and Over  Total Population  18 and Over   3454   \n",
       "10  2015         Glenn  18 and Over  Total Population  18 and Over     83   \n",
       "\n",
       "    Rate  \n",
       "0   53.1  \n",
       "1   49.1  \n",
       "2   43.8  \n",
       "3   42.7  \n",
       "5   29.0  \n",
       "6   54.8  \n",
       "7   41.9  \n",
       "8   32.8  \n",
       "9   49.5  \n",
       "10  39.4  "
      ],
      "text/html": "<div>\n<style scoped>\n    .dataframe tbody tr th:only-of-type {\n        vertical-align: middle;\n    }\n\n    .dataframe tbody tr th {\n        vertical-align: top;\n    }\n\n    .dataframe thead th {\n        text-align: right;\n    }\n</style>\n<table border=\"1\" class=\"dataframe\">\n  <thead>\n    <tr style=\"text-align: right;\">\n      <th></th>\n      <th>Year</th>\n      <th>Geography</th>\n      <th>Age</th>\n      <th>Category</th>\n      <th>Demographic</th>\n      <th>Count</th>\n      <th>Rate</th>\n    </tr>\n  </thead>\n  <tbody>\n    <tr>\n      <th>0</th>\n      <td>2015</td>\n      <td>Alameda</td>\n      <td>18 and Over</td>\n      <td>Total Population</td>\n      <td>18 and Over</td>\n      <td>6513</td>\n      <td>53.1</td>\n    </tr>\n    <tr>\n      <th>1</th>\n      <td>2015</td>\n      <td>Amador</td>\n      <td>18 and Over</td>\n      <td>Total Population</td>\n      <td>18 and Over</td>\n      <td>151</td>\n      <td>49.1</td>\n    </tr>\n    <tr>\n      <th>2</th>\n      <td>2015</td>\n      <td>Butte</td>\n      <td>18 and Over</td>\n      <td>Total Population</td>\n      <td>18 and Over</td>\n      <td>736</td>\n      <td>43.8</td>\n    </tr>\n    <tr>\n      <th>3</th>\n      <td>2015</td>\n      <td>Calaveras</td>\n      <td>18 and Over</td>\n      <td>Total Population</td>\n      <td>18 and Over</td>\n      <td>139</td>\n      <td>42.7</td>\n    </tr>\n    <tr>\n      <th>5</th>\n      <td>2015</td>\n      <td>Colusa</td>\n      <td>18 and Over</td>\n      <td>Total Population</td>\n      <td>18 and Over</td>\n      <td>49</td>\n      <td>29.0</td>\n    </tr>\n    <tr>\n      <th>6</th>\n      <td>2015</td>\n      <td>Contra Costa</td>\n      <td>18 and Over</td>\n      <td>Total Population</td>\n      <td>18 and Over</td>\n      <td>4528</td>\n      <td>54.8</td>\n    </tr>\n    <tr>\n      <th>7</th>\n      <td>2015</td>\n      <td>Del Norte</td>\n      <td>18 and Over</td>\n      <td>Total Population</td>\n      <td>18 and Over</td>\n      <td>91</td>\n      <td>41.9</td>\n    </tr>\n    <tr>\n      <th>8</th>\n      <td>2015</td>\n      <td>El Dorado</td>\n      <td>18 and Over</td>\n      <td>Total Population</td>\n      <td>18 and Over</td>\n      <td>422</td>\n      <td>32.8</td>\n    </tr>\n    <tr>\n      <th>9</th>\n      <td>2015</td>\n      <td>Fresno</td>\n      <td>18 and Over</td>\n      <td>Total Population</td>\n      <td>18 and Over</td>\n      <td>3454</td>\n      <td>49.5</td>\n    </tr>\n    <tr>\n      <th>10</th>\n      <td>2015</td>\n      <td>Glenn</td>\n      <td>18 and Over</td>\n      <td>Total Population</td>\n      <td>18 and Over</td>\n      <td>83</td>\n      <td>39.4</td>\n    </tr>\n  </tbody>\n</table>\n</div>"
     },
     "metadata": {},
     "execution_count": 4
    }
   ],
   "source": [
    "df_without_cal_total = df[df['Geography']!= 'California']\n",
    "df_without_cal_total.head(10)"
   ]
  },
  {
   "cell_type": "code",
   "execution_count": 6,
   "metadata": {},
   "outputs": [
    {
     "output_type": "stream",
     "name": "stdout",
     "text": [
      "0.007734670206471863\n"
     ]
    }
   ],
   "source": [
    "contingency_table = pd.crosstab(index=df['Geography'], columns=df['Rate'])\n",
    "p = chi2_contingency(contingency_table)[1]\n",
    "print(p)"
   ]
  },
  {
   "source": [
    "As p < 0.05, it seems that geography and the rate of asthma are dependent."
   ],
   "cell_type": "markdown",
   "metadata": {}
  },
  {
   "cell_type": "code",
   "execution_count": 13,
   "metadata": {},
   "outputs": [
    {
     "output_type": "execute_result",
     "data": {
      "text/plain": [
       "      Year      Geography          Age        Category  \\\n",
       "7412  2018           Mono  18 and Over  Race-Ethnicity   \n",
       "7776  2018           Mono     All Ages  Race-Ethnicity   \n",
       "6018  2016         Madera     Under 18  Race-Ethnicity   \n",
       "4970  2011           Lake     Under 18  Race-Ethnicity   \n",
       "8156  2018           Lake     Under 18  Race-Ethnicity   \n",
       "5298  2016         Plumas  18 and Over  Race-Ethnicity   \n",
       "9235  2019           Lake     Under 18  Race-Ethnicity   \n",
       "7073  2017  San Francisco     Under 18  Race-Ethnicity   \n",
       "816   2015        Alameda     Under 18  Race-Ethnicity   \n",
       "1883  2014        Alameda     Under 18  Race-Ethnicity   \n",
       "4266  2011      Mendocino  18 and Over  Race-Ethnicity   \n",
       "8158  2018         Madera     Under 18  Race-Ethnicity   \n",
       "8495  2019      Mendocino  18 and Over  Race-Ethnicity   \n",
       "6013  2016       Humboldt     Under 18  Race-Ethnicity   \n",
       "5708  2016         Plumas     All Ages  Race-Ethnicity   \n",
       "796   2015         Merced     Under 18  Race-Ethnicity   \n",
       "3942  2012         Madera     Under 18  Race-Ethnicity   \n",
       "794   2015         Madera     Under 18  Race-Ethnicity   \n",
       "3935  2012      El Dorado     Under 18  Race-Ethnicity   \n",
       "7448  2018      Mendocino  18 and Over  Race-Ethnicity   \n",
       "\n",
       "                         Demographic  Count    Rate  \n",
       "7412          Asian/Pacific Islander     21  4564.1  \n",
       "7776          Asian/Pacific Islander     22  3531.0  \n",
       "6018                African-American     56   961.1  \n",
       "4970                African-American     15   932.6  \n",
       "8156                African-American     12   801.2  \n",
       "5298                African-American     13   755.7  \n",
       "9235                African-American     14   731.7  \n",
       "7073  American Indian/Alaskan Native     16   622.4  \n",
       "816   American Indian/Alaskan Native     49   615.3  \n",
       "1883  American Indian/Alaskan Native     49   613.7  \n",
       "4266                African-American     27   610.1  \n",
       "8158                African-American     34   602.2  \n",
       "8495                African-American     31   596.3  \n",
       "6013                African-American     16   595.6  \n",
       "5708                African-American     13   560.9  \n",
       "796                 African-American     98   551.4  \n",
       "3942                African-American     36   541.3  \n",
       "794                 African-American     34   539.9  \n",
       "3935                African-American     13   530.6  \n",
       "7448                African-American     26   529.5  "
      ],
      "text/html": "<div>\n<style scoped>\n    .dataframe tbody tr th:only-of-type {\n        vertical-align: middle;\n    }\n\n    .dataframe tbody tr th {\n        vertical-align: top;\n    }\n\n    .dataframe thead th {\n        text-align: right;\n    }\n</style>\n<table border=\"1\" class=\"dataframe\">\n  <thead>\n    <tr style=\"text-align: right;\">\n      <th></th>\n      <th>Year</th>\n      <th>Geography</th>\n      <th>Age</th>\n      <th>Category</th>\n      <th>Demographic</th>\n      <th>Count</th>\n      <th>Rate</th>\n    </tr>\n  </thead>\n  <tbody>\n    <tr>\n      <th>7412</th>\n      <td>2018</td>\n      <td>Mono</td>\n      <td>18 and Over</td>\n      <td>Race-Ethnicity</td>\n      <td>Asian/Pacific Islander</td>\n      <td>21</td>\n      <td>4564.1</td>\n    </tr>\n    <tr>\n      <th>7776</th>\n      <td>2018</td>\n      <td>Mono</td>\n      <td>All Ages</td>\n      <td>Race-Ethnicity</td>\n      <td>Asian/Pacific Islander</td>\n      <td>22</td>\n      <td>3531.0</td>\n    </tr>\n    <tr>\n      <th>6018</th>\n      <td>2016</td>\n      <td>Madera</td>\n      <td>Under 18</td>\n      <td>Race-Ethnicity</td>\n      <td>African-American</td>\n      <td>56</td>\n      <td>961.1</td>\n    </tr>\n    <tr>\n      <th>4970</th>\n      <td>2011</td>\n      <td>Lake</td>\n      <td>Under 18</td>\n      <td>Race-Ethnicity</td>\n      <td>African-American</td>\n      <td>15</td>\n      <td>932.6</td>\n    </tr>\n    <tr>\n      <th>8156</th>\n      <td>2018</td>\n      <td>Lake</td>\n      <td>Under 18</td>\n      <td>Race-Ethnicity</td>\n      <td>African-American</td>\n      <td>12</td>\n      <td>801.2</td>\n    </tr>\n    <tr>\n      <th>5298</th>\n      <td>2016</td>\n      <td>Plumas</td>\n      <td>18 and Over</td>\n      <td>Race-Ethnicity</td>\n      <td>African-American</td>\n      <td>13</td>\n      <td>755.7</td>\n    </tr>\n    <tr>\n      <th>9235</th>\n      <td>2019</td>\n      <td>Lake</td>\n      <td>Under 18</td>\n      <td>Race-Ethnicity</td>\n      <td>African-American</td>\n      <td>14</td>\n      <td>731.7</td>\n    </tr>\n    <tr>\n      <th>7073</th>\n      <td>2017</td>\n      <td>San Francisco</td>\n      <td>Under 18</td>\n      <td>Race-Ethnicity</td>\n      <td>American Indian/Alaskan Native</td>\n      <td>16</td>\n      <td>622.4</td>\n    </tr>\n    <tr>\n      <th>816</th>\n      <td>2015</td>\n      <td>Alameda</td>\n      <td>Under 18</td>\n      <td>Race-Ethnicity</td>\n      <td>American Indian/Alaskan Native</td>\n      <td>49</td>\n      <td>615.3</td>\n    </tr>\n    <tr>\n      <th>1883</th>\n      <td>2014</td>\n      <td>Alameda</td>\n      <td>Under 18</td>\n      <td>Race-Ethnicity</td>\n      <td>American Indian/Alaskan Native</td>\n      <td>49</td>\n      <td>613.7</td>\n    </tr>\n    <tr>\n      <th>4266</th>\n      <td>2011</td>\n      <td>Mendocino</td>\n      <td>18 and Over</td>\n      <td>Race-Ethnicity</td>\n      <td>African-American</td>\n      <td>27</td>\n      <td>610.1</td>\n    </tr>\n    <tr>\n      <th>8158</th>\n      <td>2018</td>\n      <td>Madera</td>\n      <td>Under 18</td>\n      <td>Race-Ethnicity</td>\n      <td>African-American</td>\n      <td>34</td>\n      <td>602.2</td>\n    </tr>\n    <tr>\n      <th>8495</th>\n      <td>2019</td>\n      <td>Mendocino</td>\n      <td>18 and Over</td>\n      <td>Race-Ethnicity</td>\n      <td>African-American</td>\n      <td>31</td>\n      <td>596.3</td>\n    </tr>\n    <tr>\n      <th>6013</th>\n      <td>2016</td>\n      <td>Humboldt</td>\n      <td>Under 18</td>\n      <td>Race-Ethnicity</td>\n      <td>African-American</td>\n      <td>16</td>\n      <td>595.6</td>\n    </tr>\n    <tr>\n      <th>5708</th>\n      <td>2016</td>\n      <td>Plumas</td>\n      <td>All Ages</td>\n      <td>Race-Ethnicity</td>\n      <td>African-American</td>\n      <td>13</td>\n      <td>560.9</td>\n    </tr>\n    <tr>\n      <th>796</th>\n      <td>2015</td>\n      <td>Merced</td>\n      <td>Under 18</td>\n      <td>Race-Ethnicity</td>\n      <td>African-American</td>\n      <td>98</td>\n      <td>551.4</td>\n    </tr>\n    <tr>\n      <th>3942</th>\n      <td>2012</td>\n      <td>Madera</td>\n      <td>Under 18</td>\n      <td>Race-Ethnicity</td>\n      <td>African-American</td>\n      <td>36</td>\n      <td>541.3</td>\n    </tr>\n    <tr>\n      <th>794</th>\n      <td>2015</td>\n      <td>Madera</td>\n      <td>Under 18</td>\n      <td>Race-Ethnicity</td>\n      <td>African-American</td>\n      <td>34</td>\n      <td>539.9</td>\n    </tr>\n    <tr>\n      <th>3935</th>\n      <td>2012</td>\n      <td>El Dorado</td>\n      <td>Under 18</td>\n      <td>Race-Ethnicity</td>\n      <td>African-American</td>\n      <td>13</td>\n      <td>530.6</td>\n    </tr>\n    <tr>\n      <th>7448</th>\n      <td>2018</td>\n      <td>Mendocino</td>\n      <td>18 and Over</td>\n      <td>Race-Ethnicity</td>\n      <td>African-American</td>\n      <td>26</td>\n      <td>529.5</td>\n    </tr>\n  </tbody>\n</table>\n</div>"
     },
     "metadata": {},
     "execution_count": 13
    }
   ],
   "source": [
    "highest_asthma_rates = df_without_cal_total.nlargest(20, 'Rate', keep='first')\n",
    "highest_asthma_rates"
   ]
  },
  {
   "cell_type": "code",
   "execution_count": 12,
   "metadata": {},
   "outputs": [
    {
     "output_type": "execute_result",
     "data": {
      "text/plain": [
       "      Year    Geography          Age        Category             Demographic  \\\n",
       "8580  2019    San Diego  18 and Over  Race-Ethnicity             Multiracial   \n",
       "8963  2019       Orange     All Ages  Race-Ethnicity             Multiracial   \n",
       "8575  2019       Orange  18 and Over  Race-Ethnicity             Multiracial   \n",
       "8479  2019      Ventura  18 and Over  Race-Ethnicity  Asian/Pacific Islander   \n",
       "3293  2012      Ventura  18 and Over  Race-Ethnicity  Asian/Pacific Islander   \n",
       "1200  2014      Ventura  18 and Over  Race-Ethnicity  Asian/Pacific Islander   \n",
       "3290  2012       Sonoma  18 and Over  Race-Ethnicity  Asian/Pacific Islander   \n",
       "2254  2013         Yolo  18 and Over  Race-Ethnicity  Asian/Pacific Islander   \n",
       "8859  2019      Ventura     All Ages  Race-Ethnicity  Asian/Pacific Islander   \n",
       "1185  2014    Riverside  18 and Over  Race-Ethnicity  Asian/Pacific Islander   \n",
       "8971  2019    San Mateo     All Ages  Race-Ethnicity             Multiracial   \n",
       "2238  2013    Riverside  18 and Over  Race-Ethnicity  Asian/Pacific Islander   \n",
       "4307  2011       Orange  18 and Over  Race-Ethnicity  Asian/Pacific Islander   \n",
       "5341  2016       Orange  18 and Over  Race-Ethnicity  Asian/Pacific Islander   \n",
       "8583  2019  Santa Clara  18 and Over  Race-Ethnicity             Multiracial   \n",
       "2253  2013      Ventura  18 and Over  Race-Ethnicity  Asian/Pacific Islander   \n",
       "1383  2014       Lassen  18 and Over             Sex                    Male   \n",
       "6378  2017      Ventura  18 and Over  Race-Ethnicity  Asian/Pacific Islander   \n",
       "8972  2019  Santa Clara     All Ages  Race-Ethnicity             Multiracial   \n",
       "121   2015    Riverside  18 and Over  Race-Ethnicity  Asian/Pacific Islander   \n",
       "\n",
       "      Count  Rate  \n",
       "8580     39   5.2  \n",
       "8963     35   5.2  \n",
       "8575     24   5.9  \n",
       "8479     33   6.0  \n",
       "3293     34   7.4  \n",
       "1200     39   7.5  \n",
       "3290     12   7.6  \n",
       "2254     15   8.0  \n",
       "8859     48   8.3  \n",
       "1185     98   8.4  \n",
       "8971     29   8.4  \n",
       "2238     93   8.7  \n",
       "4307    360   8.7  \n",
       "5341    406   8.7  \n",
       "8583     29   8.7  \n",
       "2253     41   8.9  \n",
       "1383     17   9.1  \n",
       "6378     45   9.1  \n",
       "8972     57   9.1  \n",
       "121     107   9.2  "
      ],
      "text/html": "<div>\n<style scoped>\n    .dataframe tbody tr th:only-of-type {\n        vertical-align: middle;\n    }\n\n    .dataframe tbody tr th {\n        vertical-align: top;\n    }\n\n    .dataframe thead th {\n        text-align: right;\n    }\n</style>\n<table border=\"1\" class=\"dataframe\">\n  <thead>\n    <tr style=\"text-align: right;\">\n      <th></th>\n      <th>Year</th>\n      <th>Geography</th>\n      <th>Age</th>\n      <th>Category</th>\n      <th>Demographic</th>\n      <th>Count</th>\n      <th>Rate</th>\n    </tr>\n  </thead>\n  <tbody>\n    <tr>\n      <th>8580</th>\n      <td>2019</td>\n      <td>San Diego</td>\n      <td>18 and Over</td>\n      <td>Race-Ethnicity</td>\n      <td>Multiracial</td>\n      <td>39</td>\n      <td>5.2</td>\n    </tr>\n    <tr>\n      <th>8963</th>\n      <td>2019</td>\n      <td>Orange</td>\n      <td>All Ages</td>\n      <td>Race-Ethnicity</td>\n      <td>Multiracial</td>\n      <td>35</td>\n      <td>5.2</td>\n    </tr>\n    <tr>\n      <th>8575</th>\n      <td>2019</td>\n      <td>Orange</td>\n      <td>18 and Over</td>\n      <td>Race-Ethnicity</td>\n      <td>Multiracial</td>\n      <td>24</td>\n      <td>5.9</td>\n    </tr>\n    <tr>\n      <th>8479</th>\n      <td>2019</td>\n      <td>Ventura</td>\n      <td>18 and Over</td>\n      <td>Race-Ethnicity</td>\n      <td>Asian/Pacific Islander</td>\n      <td>33</td>\n      <td>6.0</td>\n    </tr>\n    <tr>\n      <th>3293</th>\n      <td>2012</td>\n      <td>Ventura</td>\n      <td>18 and Over</td>\n      <td>Race-Ethnicity</td>\n      <td>Asian/Pacific Islander</td>\n      <td>34</td>\n      <td>7.4</td>\n    </tr>\n    <tr>\n      <th>1200</th>\n      <td>2014</td>\n      <td>Ventura</td>\n      <td>18 and Over</td>\n      <td>Race-Ethnicity</td>\n      <td>Asian/Pacific Islander</td>\n      <td>39</td>\n      <td>7.5</td>\n    </tr>\n    <tr>\n      <th>3290</th>\n      <td>2012</td>\n      <td>Sonoma</td>\n      <td>18 and Over</td>\n      <td>Race-Ethnicity</td>\n      <td>Asian/Pacific Islander</td>\n      <td>12</td>\n      <td>7.6</td>\n    </tr>\n    <tr>\n      <th>2254</th>\n      <td>2013</td>\n      <td>Yolo</td>\n      <td>18 and Over</td>\n      <td>Race-Ethnicity</td>\n      <td>Asian/Pacific Islander</td>\n      <td>15</td>\n      <td>8.0</td>\n    </tr>\n    <tr>\n      <th>8859</th>\n      <td>2019</td>\n      <td>Ventura</td>\n      <td>All Ages</td>\n      <td>Race-Ethnicity</td>\n      <td>Asian/Pacific Islander</td>\n      <td>48</td>\n      <td>8.3</td>\n    </tr>\n    <tr>\n      <th>1185</th>\n      <td>2014</td>\n      <td>Riverside</td>\n      <td>18 and Over</td>\n      <td>Race-Ethnicity</td>\n      <td>Asian/Pacific Islander</td>\n      <td>98</td>\n      <td>8.4</td>\n    </tr>\n    <tr>\n      <th>8971</th>\n      <td>2019</td>\n      <td>San Mateo</td>\n      <td>All Ages</td>\n      <td>Race-Ethnicity</td>\n      <td>Multiracial</td>\n      <td>29</td>\n      <td>8.4</td>\n    </tr>\n    <tr>\n      <th>2238</th>\n      <td>2013</td>\n      <td>Riverside</td>\n      <td>18 and Over</td>\n      <td>Race-Ethnicity</td>\n      <td>Asian/Pacific Islander</td>\n      <td>93</td>\n      <td>8.7</td>\n    </tr>\n    <tr>\n      <th>4307</th>\n      <td>2011</td>\n      <td>Orange</td>\n      <td>18 and Over</td>\n      <td>Race-Ethnicity</td>\n      <td>Asian/Pacific Islander</td>\n      <td>360</td>\n      <td>8.7</td>\n    </tr>\n    <tr>\n      <th>5341</th>\n      <td>2016</td>\n      <td>Orange</td>\n      <td>18 and Over</td>\n      <td>Race-Ethnicity</td>\n      <td>Asian/Pacific Islander</td>\n      <td>406</td>\n      <td>8.7</td>\n    </tr>\n    <tr>\n      <th>8583</th>\n      <td>2019</td>\n      <td>Santa Clara</td>\n      <td>18 and Over</td>\n      <td>Race-Ethnicity</td>\n      <td>Multiracial</td>\n      <td>29</td>\n      <td>8.7</td>\n    </tr>\n    <tr>\n      <th>2253</th>\n      <td>2013</td>\n      <td>Ventura</td>\n      <td>18 and Over</td>\n      <td>Race-Ethnicity</td>\n      <td>Asian/Pacific Islander</td>\n      <td>41</td>\n      <td>8.9</td>\n    </tr>\n    <tr>\n      <th>1383</th>\n      <td>2014</td>\n      <td>Lassen</td>\n      <td>18 and Over</td>\n      <td>Sex</td>\n      <td>Male</td>\n      <td>17</td>\n      <td>9.1</td>\n    </tr>\n    <tr>\n      <th>6378</th>\n      <td>2017</td>\n      <td>Ventura</td>\n      <td>18 and Over</td>\n      <td>Race-Ethnicity</td>\n      <td>Asian/Pacific Islander</td>\n      <td>45</td>\n      <td>9.1</td>\n    </tr>\n    <tr>\n      <th>8972</th>\n      <td>2019</td>\n      <td>Santa Clara</td>\n      <td>All Ages</td>\n      <td>Race-Ethnicity</td>\n      <td>Multiracial</td>\n      <td>57</td>\n      <td>9.1</td>\n    </tr>\n    <tr>\n      <th>121</th>\n      <td>2015</td>\n      <td>Riverside</td>\n      <td>18 and Over</td>\n      <td>Race-Ethnicity</td>\n      <td>Asian/Pacific Islander</td>\n      <td>107</td>\n      <td>9.2</td>\n    </tr>\n  </tbody>\n</table>\n</div>"
     },
     "metadata": {},
     "execution_count": 12
    }
   ],
   "source": [
    "lowest_asthma_rates = df_without_cal_total.nsmallest(20, 'Rate', keep='first')\n",
    "lowest_asthma_rates"
   ]
  },
  {
   "cell_type": "code",
   "execution_count": null,
   "metadata": {},
   "outputs": [],
   "source": []
  }
 ]
}