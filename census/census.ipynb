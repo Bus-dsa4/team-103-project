{
 "cells": [
  {
   "cell_type": "code",
   "execution_count": 2,
   "id": "regulation-hunger",
   "metadata": {},
   "outputs": [],
   "source": [
    "import pandas as pd\n",
    "from uszipcode import SearchEngine, SimpleZipcode\n",
    "from datasource import DataSource"
   ]
  },
  {
   "cell_type": "code",
   "execution_count": 25,
   "id": "united-prototype",
   "metadata": {},
   "outputs": [
    {
     "name": "stdout",
     "output_type": "stream",
     "text": [
      "Requirement already satisfied: geopy in /Library/Frameworks/Python.framework/Versions/3.8/lib/python3.8/site-packages (2.1.0)\n",
      "Requirement already satisfied: geographiclib<2,>=1.49 in /Library/Frameworks/Python.framework/Versions/3.8/lib/python3.8/site-packages (from geopy) (1.50)\n"
     ]
    }
   ],
   "source": [
    "!pip3 install geopy"
   ]
  },
  {
   "cell_type": "code",
   "execution_count": 26,
   "id": "tamil-cosmetic",
   "metadata": {},
   "outputs": [],
   "source": [
    "from geopy.geocoders import Nominatim"
   ]
  },
  {
   "cell_type": "markdown",
   "id": "sized-vietnam",
   "metadata": {},
   "source": [
    "Below are examples on how to use the class"
   ]
  },
  {
   "cell_type": "code",
   "execution_count": 3,
   "id": "superb-belize",
   "metadata": {},
   "outputs": [],
   "source": [
    "# Initializing the class with the files from the census\n",
    "d = DataSource('census//wc//meta.csv','census//wc//data.csv')"
   ]
  },
  {
   "cell_type": "code",
   "execution_count": 7,
   "id": "appropriate-letters",
   "metadata": {},
   "outputs": [],
   "source": [
    "# Getting the panda with the data\n",
    "# size 1x1373\n",
    "# d.get_data()"
   ]
  },
  {
   "cell_type": "code",
   "execution_count": null,
   "id": "registered-legislation",
   "metadata": {},
   "outputs": [],
   "source": [
    "# This changes the data to have different columns names\n",
    "d.change_col_name()"
   ]
  },
  {
   "cell_type": "code",
   "execution_count": 6,
   "id": "controlled-tournament",
   "metadata": {},
   "outputs": [],
   "source": [
    "search = SearchEngine()"
   ]
  },
  {
   "cell_type": "code",
   "execution_count": 10,
   "id": "august-cambridge",
   "metadata": {},
   "outputs": [],
   "source": [
    "results = search.by_coordinates(lat=39.122229,lng=-77.133578, radius=30)"
   ]
  },
  {
   "cell_type": "code",
   "execution_count": 11,
   "id": "parallel-diagnosis",
   "metadata": {},
   "outputs": [
    {
     "name": "stdout",
     "output_type": "stream",
     "text": [
      "20855\n",
      "20853\n",
      "20877\n",
      "20851\n",
      "20832\n"
     ]
    }
   ],
   "source": [
    "for r in results:\n",
    "    print(r.zipcode)"
   ]
  },
  {
   "cell_type": "code",
   "execution_count": 23,
   "id": "other-music",
   "metadata": {},
   "outputs": [],
   "source": [
    "# Returns a list of zipcodes with a radious\n",
    "# radius is default zero\n",
    "# if the we get nothing back it will have 'NONE' so we can find those rows later to process again\n",
    "def get_zips(lat,lng,r=30):\n",
    "    search = SearchEngine()\n",
    "    results = search.by_coordinates(lat=lat,lng=lng, radius=r)\n",
    "    return [r.zipcode for r in results] if len(results)!=0 else 'NONE'\n",
    "def get_zips_city(city):\n",
    "    search = SearchEngine()\n",
    "    results = search.by_city(city=city)\n",
    "    return [r.zipcode for r in results] if len(results)!=0 else 'NONE'\n"
   ]
  },
  {
   "cell_type": "code",
   "execution_count": 24,
   "id": "indirect-ontario",
   "metadata": {},
   "outputs": [
    {
     "data": {
      "text/plain": [
       "'NONE'"
      ]
     },
     "execution_count": 24,
     "metadata": {},
     "output_type": "execute_result"
    }
   ],
   "source": [
    "get_zips(-124,40,100)"
   ]
  },
  {
   "cell_type": "code",
   "execution_count": 27,
   "id": "noticed-people",
   "metadata": {},
   "outputs": [],
   "source": [
    "geolocator = Nominatim(user_agent=\"geoapiExercises\")"
   ]
  },
  {
   "cell_type": "code",
   "execution_count": 30,
   "id": "digital-edmonton",
   "metadata": {},
   "outputs": [
    {
     "data": {
      "text/plain": [
       "Location(CAL FIRE/San Luis Obispo County Fire Department Station #22, Willow Road, Callender, San Luis Obispo County, California, United States, (35.0467805, -120.58733187919911, 0.0))"
      ]
     },
     "execution_count": 30,
     "metadata": {},
     "output_type": "execute_result"
    }
   ],
   "source": [
    "location = geolocator.reverse('35.04673'+\",\"+'-120.58777')\n",
    "location\n",
    "geolocator.geocode(\"CAL FIRE/San Luis Obispo County Fire Department Station #22\")"
   ]
  },
  {
   "cell_type": "code",
   "execution_count": null,
   "id": "loaded-strengthening",
   "metadata": {},
   "outputs": [],
   "source": [
    "values = zip(aqs_df['longitude'],aqs_df['latitude'])\n",
    "zip_codes = []\n",
    "for lat,lng in values:\n",
    "    temp = get_zips(lat,lng,1)\n",
    "    if len(temp)==0:\n",
    "        zip_codes.append('None')\n",
    "    else:\n",
    "        zip_codes.append(','.join(get_zips(lat,lng,1)))\n",
    "        \n",
    "        "
   ]
  },
  {
   "cell_type": "code",
   "execution_count": 31,
   "id": "compact-south",
   "metadata": {},
   "outputs": [
    {
     "name": "stdout",
     "output_type": "stream",
     "text": [
      "Collecting CensusData\n",
      "  Downloading CensusData-1.13.tar.gz (30.3 MB)\n",
      "\u001b[K     |████████████████████████████████| 30.3 MB 1.5 MB/s eta 0:00:01    |███▌                            | 3.3 MB 2.5 MB/s eta 0:00:11     |█████▉                          | 5.5 MB 2.1 MB/s eta 0:00:12     |████████                        | 7.5 MB 2.5 MB/s eta 0:00:10     |████████▏                       | 7.7 MB 2.5 MB/s eta 0:00:10     |███████████████▌                | 14.7 MB 2.1 MB/s eta 0:00:08\n",
      "\u001b[?25hRequirement already satisfied: pandas in /Library/Frameworks/Python.framework/Versions/3.8/lib/python3.8/site-packages (from CensusData) (1.2.3)\n",
      "Requirement already satisfied: requests in /Library/Frameworks/Python.framework/Versions/3.8/lib/python3.8/site-packages (from CensusData) (2.24.0)\n",
      "Requirement already satisfied: python-dateutil>=2.7.3 in /Library/Frameworks/Python.framework/Versions/3.8/lib/python3.8/site-packages (from pandas->CensusData) (2.8.1)\n",
      "Requirement already satisfied: numpy>=1.16.5 in /Library/Frameworks/Python.framework/Versions/3.8/lib/python3.8/site-packages (from pandas->CensusData) (1.19.2)\n",
      "Requirement already satisfied: pytz>=2017.3 in /Library/Frameworks/Python.framework/Versions/3.8/lib/python3.8/site-packages (from pandas->CensusData) (2021.1)\n",
      "Requirement already satisfied: six>=1.5 in /Library/Frameworks/Python.framework/Versions/3.8/lib/python3.8/site-packages (from python-dateutil>=2.7.3->pandas->CensusData) (1.15.0)\n",
      "Requirement already satisfied: chardet<4,>=3.0.2 in /Library/Frameworks/Python.framework/Versions/3.8/lib/python3.8/site-packages (from requests->CensusData) (3.0.4)\n",
      "Requirement already satisfied: idna<3,>=2.5 in /Library/Frameworks/Python.framework/Versions/3.8/lib/python3.8/site-packages (from requests->CensusData) (2.10)\n",
      "Requirement already satisfied: certifi>=2017.4.17 in /Library/Frameworks/Python.framework/Versions/3.8/lib/python3.8/site-packages (from requests->CensusData) (2020.6.20)\n",
      "Requirement already satisfied: urllib3!=1.25.0,!=1.25.1,<1.26,>=1.21.1 in /Library/Frameworks/Python.framework/Versions/3.8/lib/python3.8/site-packages (from requests->CensusData) (1.25.10)\n",
      "Using legacy 'setup.py install' for CensusData, since package 'wheel' is not installed.\n",
      "Installing collected packages: CensusData\n",
      "    Running setup.py install for CensusData ... \u001b[?25ldone\n",
      "\u001b[?25hSuccessfully installed CensusData-1.13\n"
     ]
    }
   ],
   "source": [
    "!pip3 install CensusData"
   ]
  },
  {
   "cell_type": "code",
   "execution_count": null,
   "id": "collected-mitchell",
   "metadata": {},
   "outputs": [],
   "source": []
  }
 ],
 "metadata": {
  "kernelspec": {
   "display_name": "Python 3",
   "language": "python",
   "name": "python3"
  },
  "language_info": {
   "codemirror_mode": {
    "name": "ipython",
    "version": 3
   },
   "file_extension": ".py",
   "mimetype": "text/x-python",
   "name": "python",
   "nbconvert_exporter": "python",
   "pygments_lexer": "ipython3",
   "version": "3.8.4"
  }
 },
 "nbformat": 4,
 "nbformat_minor": 5
}
