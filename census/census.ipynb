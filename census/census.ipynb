{
 "cells": [
  {
   "cell_type": "code",
   "execution_count": 2,
   "id": "regulation-hunger",
   "metadata": {},
   "outputs": [],
   "source": [
    "import pandas as pd\n",
    "from uszipcode import SearchEngine, SimpleZipcode\n",
    "from datasource import DataSource"
   ]
  },
  {
   "cell_type": "code",
   "execution_count": 25,
   "id": "republican-machinery",
   "metadata": {},
   "outputs": [
    {
     "name": "stdout",
     "output_type": "stream",
     "text": [
      "Requirement already satisfied: geopy in /Library/Frameworks/Python.framework/Versions/3.8/lib/python3.8/site-packages (2.1.0)\n",
      "Requirement already satisfied: geographiclib<2,>=1.49 in /Library/Frameworks/Python.framework/Versions/3.8/lib/python3.8/site-packages (from geopy) (1.50)\n"
     ]
    }
   ],
   "source": [
    "!pip3 install geopy"
   ]
  },
  {
   "cell_type": "code",
   "execution_count": 26,
   "id": "tropical-engine",
   "metadata": {},
   "outputs": [],
   "source": [
    "from geopy.geocoders import Nominatim"
   ]
  },
  {
   "cell_type": "markdown",
   "id": "sized-vietnam",
   "metadata": {},
   "source": [
    "Below are examples on how to use the class"
   ]
  },
  {
   "cell_type": "code",
   "execution_count": 3,
   "id": "superb-belize",
   "metadata": {},
   "outputs": [],
   "source": [
    "# Initializing the class with the files from the census\n",
    "d = DataSource('census//wc//meta.csv','census//wc//data.csv')"
   ]
  },
  {
   "cell_type": "code",
   "execution_count": 7,
   "id": "appropriate-letters",
   "metadata": {},
   "outputs": [],
   "source": [
    "# Getting the panda with the data\n",
    "# size 1x1373\n",
    "# d.get_data()"
   ]
  },
  {
   "cell_type": "code",
   "execution_count": null,
   "id": "registered-legislation",
   "metadata": {},
   "outputs": [],
   "source": [
    "# This changes the data to have different columns names\n",
    "d.change_col_name()"
   ]
  },
  {
   "cell_type": "code",
   "execution_count": 6,
   "id": "controlled-tournament",
   "metadata": {},
   "outputs": [],
   "source": [
    "search = SearchEngine()"
   ]
  },
  {
   "cell_type": "code",
   "execution_count": 10,
   "id": "equipped-apparel",
   "metadata": {},
   "outputs": [],
   "source": [
    "results = search.by_coordinates(lat=39.122229,lng=-77.133578, radius=30)"
   ]
  },
  {
   "cell_type": "code",
   "execution_count": 11,
   "id": "attractive-provincial",
   "metadata": {},
   "outputs": [
    {
     "name": "stdout",
     "output_type": "stream",
     "text": [
      "20855\n",
      "20853\n",
      "20877\n",
      "20851\n",
      "20832\n"
     ]
    }
   ],
   "source": [
    "for r in results:\n",
    "    print(r.zipcode)"
   ]
  },
  {
   "cell_type": "code",
   "execution_count": 23,
   "id": "difficult-module",
   "metadata": {},
   "outputs": [],
   "source": [
    "# Returns a list of zipcodes with a radious\n",
    "# radius is default zero\n",
    "# if the we get nothing back it will have 'NONE' so we can find those rows later to process again\n",
    "def get_zips(lat,lng,r=30):\n",
    "    search = SearchEngine()\n",
    "    results = search.by_coordinates(lat=lat,lng=lng, radius=r)\n",
    "    return [r.zipcode for r in results] if len(results)!=0 else 'NONE'\n",
    "def get_zips_city(city):\n",
    "    search = SearchEngine()\n",
    "    results = search.by_city(city=city)\n",
    "    return [r.zipcode for r in results] if len(results)!=0 else 'NONE'\n"
   ]
  },
  {
   "cell_type": "code",
   "execution_count": 24,
   "id": "entire-chicken",
   "metadata": {},
   "outputs": [
    {
     "data": {
      "text/plain": [
       "'NONE'"
      ]
     },
     "execution_count": 24,
     "metadata": {},
     "output_type": "execute_result"
    }
   ],
   "source": [
    "get_zips(-124,40,100)"
   ]
  },
  {
   "cell_type": "code",
   "execution_count": null,
   "id": "efficient-quantity",
   "metadata": {},
   "outputs": [],
   "source": []
  }
 ],
 "metadata": {
  "kernelspec": {
   "display_name": "Python 3",
   "language": "python",
   "name": "python3"
  },
  "language_info": {
   "codemirror_mode": {
    "name": "ipython",
    "version": 3
   },
   "file_extension": ".py",
   "mimetype": "text/x-python",
   "name": "python",
   "nbconvert_exporter": "python",
   "pygments_lexer": "ipython3",
   "version": "3.8.4"
  }
 },
 "nbformat": 4,
 "nbformat_minor": 5
}
