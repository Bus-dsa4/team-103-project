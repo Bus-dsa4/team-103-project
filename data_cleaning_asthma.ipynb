{
 "cells": [
  {
   "cell_type": "markdown",
   "metadata": {},
   "source": [
    "# Asthma ED Visit Rates - Data Cleaning"
   ]
  },
  {
   "cell_type": "code",
   "execution_count": null,
   "metadata": {},
   "outputs": [],
   "source": [
    "import pandas as pd\n",
    "import numpy as np\n",
    "from siuba import _, select, rename, mutate, group_by, arrange, filter, summarize, distinct\n",
    "# https://siuba.readthedocs.io/en/latest/api_index.html\n",
    "# https://timmastny.rbind.io/blog/why-you-should-use-siuba-dplyr-for-python/"
   ]
  },
  {
   "cell_type": "code",
   "execution_count": null,
   "metadata": {},
   "outputs": [],
   "source": [
    "df_raw = pd.read_csv('~/Google Drive/DS4A Empowerment/Team 103 Shared/Data Sources/California Department of Public Health/asthma-ed-visit-rates_2019.csv')"
   ]
  },
  {
   "cell_type": "code",
   "execution_count": null,
   "metadata": {},
   "outputs": [],
   "source": [
    "df_raw.info()"
   ]
  },
  {
   "cell_type": "code",
   "execution_count": null,
   "metadata": {},
   "outputs": [],
   "source": [
    "df_raw.shape"
   ]
  },
  {
   "cell_type": "code",
   "execution_count": null,
   "metadata": {},
   "outputs": [],
   "source": [
    "df_raw.head()"
   ]
  },
  {
   "cell_type": "code",
   "execution_count": null,
   "metadata": {},
   "outputs": [],
   "source": [
    "df_raw.dtypes"
   ]
  },
  {
   "cell_type": "code",
   "execution_count": null,
   "metadata": {},
   "outputs": [],
   "source": [
    "df = (df_raw\n",
    "  >> rename(Age = \"Age Group\", Category = \"Strata\", Demographic = \"Strata Name\", Count = \"Numerator\")\n",
    "  >> select(_.Year, _.Geography, _.Age, _.Category, _.Demographic, _.Count, _.Rate)\n",
    "  >> mutate(Count = _.Count.str.replace(\",\",\"\").astype(int))\n",
    "  )\n",
    "\n",
    "# test = df_raw \\\n",
    "#     .siu_rename(Age = \"Age Group\", Category = \"Strata\", Demographic = \"Strata Name\", Count = \"Numerator\") \\\n",
    "#     .siu_select(_.Year, _.Geography, _.Age, _.Category, _.Demographic, _.Count, _.Rate) \\\n",
    "#     .siu_mutate(Count = _.Count.str.replace(\",\",\"\").astype(int))"
   ]
  },
  {
   "cell_type": "code",
   "execution_count": null,
   "metadata": {},
   "outputs": [],
   "source": [
    "df.describe()"
   ]
  },
  {
   "cell_type": "code",
   "execution_count": null,
   "metadata": {},
   "outputs": [],
   "source": [
    "df[df.isnull().any(axis=1)].shape # dimensions of rows with null values"
   ]
  },
  {
   "cell_type": "code",
   "execution_count": null,
   "metadata": {},
   "outputs": [],
   "source": [
    "df.loc[:, df.isnull().any()] # columns with null values"
   ]
  },
  {
   "cell_type": "code",
   "execution_count": null,
   "metadata": {},
   "outputs": [],
   "source": [
    "df[df.isnull().any(axis=1)].describe()"
   ]
  },
  {
   "cell_type": "code",
   "execution_count": null,
   "metadata": {},
   "outputs": [],
   "source": [
    "df.to_csv('cleaned_data/asthma_clean_file.csv', encoding = 'utf-8', index = False)"
   ]
  }
 ],
 "metadata": {
  "kernelspec": {
   "display_name": "Python 3",
   "language": "python",
   "name": "python3"
  },
  "language_info": {
   "codemirror_mode": {
    "name": "ipython",
    "version": 3
   },
   "file_extension": ".py",
   "mimetype": "text/x-python",
   "name": "python",
   "nbconvert_exporter": "python",
   "pygments_lexer": "ipython3",
   "version": "3.8.5"
  }
 },
 "nbformat": 4,
 "nbformat_minor": 4
}